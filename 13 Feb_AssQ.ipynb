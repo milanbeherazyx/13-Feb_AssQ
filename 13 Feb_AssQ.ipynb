{
 "cells": [
  {
   "cell_type": "code",
   "execution_count": 1,
   "id": "23b596f7-d55b-4ae2-aa9d-f3042bdeed36",
   "metadata": {},
   "outputs": [],
   "source": [
    "import logging"
   ]
  },
  {
   "cell_type": "code",
   "execution_count": 2,
   "id": "c1dca630-da9c-4dfa-b117-a4aeb18e14bc",
   "metadata": {},
   "outputs": [],
   "source": [
    "logging.basicConfig(filename = \"13 Feb_AssQ.log\", level = logging.DEBUG,\n",
    "                   format = '%(asctime)s %(name)s %(levelname)s %(message)s')"
   ]
  },
  {
   "cell_type": "code",
   "execution_count": 3,
   "id": "bba5c3d4-5240-48dc-a004-665bd28ba6f5",
   "metadata": {},
   "outputs": [
    {
     "data": {
      "text/plain": [
       "'\\nQ1. Explain why we have to use the Exception class while creating a Custom Exception.\\nNote: Here Exception class refers to the base class for all the exceptions.\\n'"
      ]
     },
     "execution_count": 3,
     "metadata": {},
     "output_type": "execute_result"
    }
   ],
   "source": [
    "\"\"\"\n",
    "Q1. Explain why we have to use the Exception class while creating a Custom Exception.\n",
    "Note: Here Exception class refers to the base class for all the exceptions.\n",
    "\"\"\""
   ]
  },
  {
   "cell_type": "code",
   "execution_count": 4,
   "id": "7c29c7f5-b4cf-410e-9d3a-d621f31e32cd",
   "metadata": {},
   "outputs": [
    {
     "data": {
      "text/plain": [
       "'\\nWe use the Exception class while creating a Custom Exception because it provides a standard way to define and handle errors in Python. \\nBy inheriting from the Exception class, we can create our own custom exception types and raise them when necessary,\\nproviding more information and control over the error handling process.\\n\\nSummary: Exception class provides a standard way to define and handle errors in Python.\\n\\nRegarding the second part of the question, using logging instead of print is a best practice when it comes to handling errors and debugging in Python.\\nThe logging module provides more advanced and flexible features for outputting messages, including the ability to write them to a file and to set \\ndifferent levels of severity for different types of messages. By using the basicConfig() method, we can set the format and destination of log messages \\nglobally for the entire application.\\n'"
      ]
     },
     "execution_count": 4,
     "metadata": {},
     "output_type": "execute_result"
    }
   ],
   "source": [
    "\"\"\"\n",
    "We use the Exception class while creating a Custom Exception because it provides a standard way to define and handle errors in Python. \n",
    "By inheriting from the Exception class, we can create our own custom exception types and raise them when necessary,\n",
    "providing more information and control over the error handling process.\n",
    "\n",
    "Summary: Exception class provides a standard way to define and handle errors in Python.\n",
    "\n",
    "Regarding the second part of the question, using logging instead of print is a best practice when it comes to handling errors and debugging in Python.\n",
    "The logging module provides more advanced and flexible features for outputting messages, including the ability to write them to a file and to set \n",
    "different levels of severity for different types of messages. By using the basicConfig() method, we can set the format and destination of log messages \n",
    "globally for the entire application.\n",
    "\"\"\""
   ]
  },
  {
   "cell_type": "code",
   "execution_count": 5,
   "id": "6f8d46af-ce8e-455d-bc3b-551137882ce6",
   "metadata": {},
   "outputs": [
    {
     "data": {
      "text/plain": [
       "'\\nQ2. Write a python program to print Python Exception Hierarchy.\\n'"
      ]
     },
     "execution_count": 5,
     "metadata": {},
     "output_type": "execute_result"
    }
   ],
   "source": [
    "\"\"\"\n",
    "Q2. Write a python program to print Python Exception Hierarchy.\n",
    "\"\"\""
   ]
  },
  {
   "cell_type": "code",
   "execution_count": 6,
   "id": "0131b869-6759-4c0b-a4f9-a37df85b9372",
   "metadata": {},
   "outputs": [],
   "source": [
    "try:\n",
    "    raise Exception('Custom Exception')\n",
    "except Exception as e:\n",
    "    logging.exception('Exception Hierarchy: ')\n"
   ]
  },
  {
   "cell_type": "code",
   "execution_count": 7,
   "id": "6bf38734-e100-48a7-a28a-0ff912b66136",
   "metadata": {},
   "outputs": [
    {
     "data": {
      "text/plain": [
       "'\\nQ3. What errors are defined in the ArithmeticError class? Explain any two with an example.\\n'"
      ]
     },
     "execution_count": 7,
     "metadata": {},
     "output_type": "execute_result"
    }
   ],
   "source": [
    "\"\"\"\n",
    "Q3. What errors are defined in the ArithmeticError class? Explain any two with an example.\n",
    "\"\"\""
   ]
  },
  {
   "cell_type": "code",
   "execution_count": 8,
   "id": "c9efb868-87fe-4095-9628-356ac43e4cc0",
   "metadata": {},
   "outputs": [
    {
     "data": {
      "text/plain": [
       "'\\nThe ArithmeticError class in Python is a base class for exceptions that occur during arithmetic operations.\\nIt is a subclass of the built-in Exception class and is used to handle errors that occur during mathematical calculations.\\n\\nTwo common exceptions that are defined in the ArithmeticError class are:\\n\\n    1.ZeroDivisionError: This exception is raised when an attempt is made to divide a number by zero.\\n    2.OverflowError: This exception is raised when the result of an arithmetic calculation exceeds the maximum representable value.\\n'"
      ]
     },
     "execution_count": 8,
     "metadata": {},
     "output_type": "execute_result"
    }
   ],
   "source": [
    "\"\"\"\n",
    "The ArithmeticError class in Python is a base class for exceptions that occur during arithmetic operations.\n",
    "It is a subclass of the built-in Exception class and is used to handle errors that occur during mathematical calculations.\n",
    "\n",
    "Two common exceptions that are defined in the ArithmeticError class are:\n",
    "\n",
    "    1.ZeroDivisionError: This exception is raised when an attempt is made to divide a number by zero.\n",
    "    2.OverflowError: This exception is raised when the result of an arithmetic calculation exceeds the maximum representable value.\n",
    "\"\"\""
   ]
  },
  {
   "cell_type": "code",
   "execution_count": 9,
   "id": "eed72d76-5464-497d-af75-613baec22b70",
   "metadata": {},
   "outputs": [],
   "source": [
    "try:\n",
    "    x = 1/0\n",
    "except ZeroDivisionError:\n",
    "    logging.exception('Attempted to divide by zero')\n"
   ]
  },
  {
   "cell_type": "code",
   "execution_count": 10,
   "id": "44600bcf-5122-432a-92bf-5c32c3649567",
   "metadata": {},
   "outputs": [],
   "source": [
    "try:\n",
    "    x = 2**1000\n",
    "except OverflowError:\n",
    "    logging.exception('Arithmetic overflow occurred')\n"
   ]
  },
  {
   "cell_type": "code",
   "execution_count": 11,
   "id": "c89ad72a-b7a2-45be-afdc-b751b43b15f7",
   "metadata": {},
   "outputs": [
    {
     "data": {
      "text/plain": [
       "'\\nQ4. Why LookupError class is used? Explain with an example KeyError and IndexError.\\n'"
      ]
     },
     "execution_count": 11,
     "metadata": {},
     "output_type": "execute_result"
    }
   ],
   "source": [
    "\"\"\"\n",
    "Q4. Why LookupError class is used? Explain with an example KeyError and IndexError.\n",
    "\"\"\""
   ]
  },
  {
   "cell_type": "code",
   "execution_count": 12,
   "id": "2a3a8325-f735-4668-b801-117cb967a902",
   "metadata": {},
   "outputs": [
    {
     "data": {
      "text/plain": [
       "'\\nThe LookupError class is used to indicate that a lookup operation (such as indexing or key-based retrieval) \\nhas failed because the requested key or index is not found in the given sequence or mapping.\\n\\nThere are two common subclasses of LookupError that are often used in Python programming:\\n'"
      ]
     },
     "execution_count": 12,
     "metadata": {},
     "output_type": "execute_result"
    }
   ],
   "source": [
    "\"\"\"\n",
    "The LookupError class is used to indicate that a lookup operation (such as indexing or key-based retrieval) \n",
    "has failed because the requested key or index is not found in the given sequence or mapping.\n",
    "\n",
    "There are two common subclasses of LookupError that are often used in Python programming:\n",
    "\"\"\""
   ]
  },
  {
   "cell_type": "code",
   "execution_count": 13,
   "id": "62b0bb4c-cddb-4a02-8485-2a3ff2f1c34a",
   "metadata": {},
   "outputs": [],
   "source": [
    "# KeyError: This exception is raised when a dictionary key is not found in the dictionary. "
   ]
  },
  {
   "cell_type": "code",
   "execution_count": 14,
   "id": "342fd14a-7694-488d-ba6e-a18f7e3de495",
   "metadata": {},
   "outputs": [],
   "source": [
    "my_dict = {'a': 1, 'b': 2, 'c': 3}\n",
    "\n",
    "try:\n",
    "    logging.debug(my_dict['d'])\n",
    "except KeyError:\n",
    "    logging.error(\"Key not found in dictionary\")"
   ]
  },
  {
   "cell_type": "code",
   "execution_count": 15,
   "id": "f388e160-b4c7-40d4-8df9-a13c1fd1527a",
   "metadata": {},
   "outputs": [],
   "source": [
    "# IndexError: This exception is raised when trying to access an index that is out of range "
   ]
  },
  {
   "cell_type": "code",
   "execution_count": 16,
   "id": "75a69f41-13db-4418-aca4-edff646fbf14",
   "metadata": {},
   "outputs": [],
   "source": [
    "my_list = [1, 2, 3]\n",
    "\n",
    "try:\n",
    "    logging.debug(my_list[3])\n",
    "except IndexError:\n",
    "    logging.error(\"Index out of range\")"
   ]
  },
  {
   "cell_type": "code",
   "execution_count": 17,
   "id": "ffc1e09e-5709-4649-9f14-9f405580f86f",
   "metadata": {},
   "outputs": [
    {
     "data": {
      "text/plain": [
       "'\\nQ5. Explain ImportError. What is ModuleNotFoundError?\\n'"
      ]
     },
     "execution_count": 17,
     "metadata": {},
     "output_type": "execute_result"
    }
   ],
   "source": [
    "\"\"\"\n",
    "Q5. Explain ImportError. What is ModuleNotFoundError?\n",
    "\"\"\""
   ]
  },
  {
   "cell_type": "code",
   "execution_count": 18,
   "id": "de061e2e-af9c-4dbd-a083-66ab38b93623",
   "metadata": {},
   "outputs": [
    {
     "data": {
      "text/plain": [
       "'\\nImportError is an exception that is raised when Python is unable to import a module. \\nThis can happen for various reasons such as a missing module, a circular import, or an incompatible module version.\\n'"
      ]
     },
     "execution_count": 18,
     "metadata": {},
     "output_type": "execute_result"
    }
   ],
   "source": [
    "\"\"\"\n",
    "ImportError is an exception that is raised when Python is unable to import a module. \n",
    "This can happen for various reasons such as a missing module, a circular import, or an incompatible module version.\n",
    "\"\"\""
   ]
  },
  {
   "cell_type": "code",
   "execution_count": 19,
   "id": "0cf4abd1-1073-4af5-85a4-891a217dd22f",
   "metadata": {},
   "outputs": [],
   "source": [
    "try:\n",
    "    import my_module\n",
    "except ImportError:\n",
    "    logging.error(\"Unable to import module\")"
   ]
  },
  {
   "cell_type": "code",
   "execution_count": 20,
   "id": "af5dfd46-5efa-4c56-8f79-0f7b94e57daa",
   "metadata": {},
   "outputs": [
    {
     "data": {
      "text/plain": [
       "'\\nHere, we try to import the module my_module. If the import fails, an ImportError is raised and we handle it using \\na try-except block. Inside the except block, we print an error message indicating that the module could not be imported.\\n\\nModuleNotFoundError is a subclass of ImportError that was introduced in Python 3.6. \\nIt is raised when a module is not found during the import process. \\nThis can happen when a module is misspelled or does not exist in the search path.\\n'"
      ]
     },
     "execution_count": 20,
     "metadata": {},
     "output_type": "execute_result"
    }
   ],
   "source": [
    "\"\"\"\n",
    "Here, we try to import the module my_module. If the import fails, an ImportError is raised and we handle it using \n",
    "a try-except block. Inside the except block, we print an error message indicating that the module could not be imported.\n",
    "\n",
    "ModuleNotFoundError is a subclass of ImportError that was introduced in Python 3.6. \n",
    "It is raised when a module is not found during the import process. \n",
    "This can happen when a module is misspelled or does not exist in the search path.\n",
    "\"\"\""
   ]
  },
  {
   "cell_type": "code",
   "execution_count": 21,
   "id": "d37710df-5ce4-44c8-b162-5673ca468c57",
   "metadata": {},
   "outputs": [],
   "source": [
    "try:\n",
    "    import my_module\n",
    "except ModuleNotFoundError:\n",
    "    logging.error(\"Module not found\")"
   ]
  },
  {
   "cell_type": "code",
   "execution_count": 22,
   "id": "2d315e4e-388a-461b-b8dc-c6409a7b22e2",
   "metadata": {},
   "outputs": [
    {
     "data": {
      "text/plain": [
       "'\\nHere, we try to import the module my_module. If the import fails due to the module not being found, \\na ModuleNotFoundError is raised and we handle it using a try-except block. Inside the except block, \\nwe print an error message indicating that the module could not be found.\\n\\nIn summary, ImportError is a general exception that can be raised when a module cannot be imported, \\nwhile ModuleNotFoundError is a specific subclass of ImportError that is raised when a module is not found during the import process.\\n'"
      ]
     },
     "execution_count": 22,
     "metadata": {},
     "output_type": "execute_result"
    }
   ],
   "source": [
    "\"\"\"\n",
    "Here, we try to import the module my_module. If the import fails due to the module not being found, \n",
    "a ModuleNotFoundError is raised and we handle it using a try-except block. Inside the except block, \n",
    "we print an error message indicating that the module could not be found.\n",
    "\n",
    "In summary, ImportError is a general exception that can be raised when a module cannot be imported, \n",
    "while ModuleNotFoundError is a specific subclass of ImportError that is raised when a module is not found during the import process.\n",
    "\"\"\""
   ]
  },
  {
   "cell_type": "code",
   "execution_count": 23,
   "id": "87eedc4e-5ca9-40c6-9e6c-621ae010f7b1",
   "metadata": {},
   "outputs": [
    {
     "data": {
      "text/plain": [
       "'\\nQ6. List down some best practices for exception handling in python.\\n'"
      ]
     },
     "execution_count": 23,
     "metadata": {},
     "output_type": "execute_result"
    }
   ],
   "source": [
    "\"\"\"\n",
    "Q6. List down some best practices for exception handling in python.\n",
    "\"\"\""
   ]
  },
  {
   "cell_type": "code",
   "execution_count": 24,
   "id": "fb57b5a6-4d58-4756-affb-a6254d8bfdc4",
   "metadata": {},
   "outputs": [],
   "source": [
    "best_practices = {\n",
    "    \"Catch specific exceptions\": \"Catching specific exceptions rather than just catching all exceptions helps to identify and resolve issues more quickly.\",\n",
    "    \"Keep the try-except block minimal\": \"The try-except block should be as small as possible. The code inside the try block should only contain the statements that are likely to raise an exception.\",\n",
    "    \"Use finally block for cleanup\": \"The finally block is executed regardless of whether an exception occurs or not. Use it to perform any necessary cleanup, such as closing files or database connections.\",\n",
    "    \"Avoid using bare 'except'\": \"Avoid using bare 'except' statements, which catch all exceptions, as this can hide errors and make debugging difficult.\",\n",
    "    \"Reraise exceptions when necessary\": \"If you catch an exception but can't handle it, re-raise it using the 'raise' statement without any arguments to let it propagate up the call stack.\",\n",
    "    \"Use built-in exception types whenever possible\": \"Python provides built-in exception types for common error scenarios, such as ValueError or TypeError. It is recommended to use them rather than creating your own custom exceptions.\",\n",
    "    \"Provide informative error messages\": \"When an exception occurs, provide informative error messages that describe the problem clearly. This helps users and developers to quickly understand the issue and fix it.\",\n",
    "    \"Use logging to track exceptions\": \"Use the logging module to track and record exceptions. This helps to identify patterns of errors and diagnose issues more easily.\",\n",
    "    \"Use context managers\": \"Use context managers, such as the 'with' statement, to handle resources such as files or network connections. Context managers automatically close resources when an exception occurs, ensuring that resources are released properly.\"\n",
    "}\n",
    "\n",
    "logging.debug(best_practices)\n",
    "\n"
   ]
  },
  {
   "cell_type": "code",
   "execution_count": null,
   "id": "5bbe6ae6-4517-4ece-8342-af18988e095e",
   "metadata": {},
   "outputs": [],
   "source": []
  }
 ],
 "metadata": {
  "kernelspec": {
   "display_name": "Python 3 (ipykernel)",
   "language": "python",
   "name": "python3"
  },
  "language_info": {
   "codemirror_mode": {
    "name": "ipython",
    "version": 3
   },
   "file_extension": ".py",
   "mimetype": "text/x-python",
   "name": "python",
   "nbconvert_exporter": "python",
   "pygments_lexer": "ipython3",
   "version": "3.10.8"
  }
 },
 "nbformat": 4,
 "nbformat_minor": 5
}
